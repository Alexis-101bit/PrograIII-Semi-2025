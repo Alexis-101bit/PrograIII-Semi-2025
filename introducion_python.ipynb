{
  "nbformat": 4,
  "nbformat_minor": 0,
  "metadata": {
    "colab": {
      "provenance": [],
      "authorship_tag": "ABX9TyPUGVhPo/zC060jyDOcdawH",
      "include_colab_link": true
    },
    "kernelspec": {
      "name": "python3",
      "display_name": "Python 3"
    },
    "language_info": {
      "name": "python"
    }
  },
  "cells": [
    {
      "cell_type": "markdown",
      "metadata": {
        "id": "view-in-github",
        "colab_type": "text"
      },
      "source": [
        "<a href=\"https://colab.research.google.com/github/Alexis-101bit/PrograIII-Semi-2025/blob/main/introducion_python.ipynb\" target=\"_parent\"><img src=\"https://colab.research.google.com/assets/colab-badge.svg\" alt=\"Open In Colab\"/></a>"
      ]
    },
    {
      "cell_type": "code",
      "execution_count": null,
      "metadata": {
        "colab": {
          "base_uri": "https://localhost:8080/"
        },
        "id": "OCgfH6Oab0id",
        "outputId": "23116c9f-51fa-4ce1-9978-e44f35ff6cba"
      },
      "outputs": [
        {
          "output_type": "stream",
          "name": "stdout",
          "text": [
            "Hola Mundo\n",
            "Bienvenidos chicos a Programacion Computacional III\n"
          ]
        }
      ],
      "source": [
        "print(\"Hola Mundo\")\n",
        "print (\"Bienvenidos chicos a Programacion Computacional III\")"
      ]
    },
    {
      "cell_type": "code",
      "source": [
        "nombre = \"Emil Alexis\"\n",
        "edad = 7\n",
        "print(nombre, edad)\n",
        "\n",
        "edad = \"cinco\"\n",
        "print(\"tu edad: \", edad)"
      ],
      "metadata": {
        "colab": {
          "base_uri": "https://localhost:8080/"
        },
        "id": "ov6kvKa8dQKf",
        "outputId": "b41e3b88-906c-49a7-841d-21dcbeff85bf"
      },
      "execution_count": null,
      "outputs": [
        {
          "output_type": "stream",
          "name": "stdout",
          "text": [
            "Emil Alexis 7\n",
            "tu edad:  cinco\n"
          ]
        }
      ]
    },
    {
      "cell_type": "code",
      "source": [
        "num1 = 5\n",
        "num2 = 8.9\n",
        "suma = num1 + num2\n",
        "print(\" La suma es: \", suma)"
      ],
      "metadata": {
        "colab": {
          "base_uri": "https://localhost:8080/"
        },
        "id": "kaHA9kOne8Wp",
        "outputId": "021a6d74-8c14-4be2-8454-f91ad4d4cfc5"
      },
      "execution_count": null,
      "outputs": [
        {
          "output_type": "stream",
          "name": "stdout",
          "text": [
            " La suma es:  13.9\n"
          ]
        }
      ]
    },
    {
      "cell_type": "code",
      "source": [
        "num1 = float(input(\"num1: \"))\n",
        "num2 = float(input(\"num2: \"))\n",
        "suma = num1 + num2\n",
        "print(\" La suma es: \", suma)"
      ],
      "metadata": {
        "colab": {
          "base_uri": "https://localhost:8080/"
        },
        "id": "CqjyY6RWfj6n",
        "outputId": "5c47beca-8708-4e37-e9dc-62a6b139cc00"
      },
      "execution_count": null,
      "outputs": [
        {
          "output_type": "stream",
          "name": "stdout",
          "text": [
            "num1: 4\n",
            "num2: 0\n",
            " La suma es:  4.0\n"
          ]
        }
      ]
    },
    {
      "cell_type": "code",
      "source": [
        "num1 = float(input(\"num1: \"))\n",
        "num2 = float(input(\"num2: \"))\n",
        "resta = num1 - num2\n",
        "print(\" La resta es: \", resta)"
      ],
      "metadata": {
        "colab": {
          "base_uri": "https://localhost:8080/"
        },
        "id": "yYCUiCvrhwmk",
        "outputId": "8eb28b14-0ac3-40c9-cd9d-c4337d161764"
      },
      "execution_count": null,
      "outputs": [
        {
          "output_type": "stream",
          "name": "stdout",
          "text": [
            "num1: 5\n",
            "num2: 5\n",
            " La resta es:  0.0\n"
          ]
        }
      ]
    },
    {
      "cell_type": "markdown",
      "source": [
        "TIPOS DE DATOS EN PYTHON"
      ],
      "metadata": {
        "id": "Ollja48BQZnk"
      }
    },
    {
      "cell_type": "code",
      "source": [
        "#ENTERO\n",
        "num1 = 6\n",
        "print(num1, \"Esto es un numero entero\")\n",
        "print( str(num1) + \" Esto es un entero\"  )\n",
        "\n",
        "#DECIMAL\n",
        "num2 = 7.5\n",
        "print(num2, \"Esto es un numero decimal\")\n",
        "\n",
        "#BOOLEANO\n",
        "esMayor = True\n",
        "print(esMayor, \"Esto es un booleano\")\n",
        "\n",
        "#CADENA\n",
        "nombre = \"Emil Alexis\"\n",
        "cadena = input(\"Dime una cadena: \")\n",
        "valor = int(input(\"Dime un valor: \"))\n",
        "print(nombre, \"Esto es una cadena\", cadena[:valor])\n",
        "\n",
        "print( nombre, \"Letra inicial\", nombre[0],  \"Un valor especifico\", nombre[5], \"rango\", nombre[0:4], \"Comenzar desde el final\", nombre[-1])\n",
        "print( nombre[5:len(nombre)], nombre[:4] )\n",
        "print(type(nombre))\n"
      ],
      "metadata": {
        "colab": {
          "base_uri": "https://localhost:8080/"
        },
        "id": "iRCSNExVQcLM",
        "outputId": "9bd1b335-1e3a-47ec-8863-625c21760a64"
      },
      "execution_count": 2,
      "outputs": [
        {
          "output_type": "stream",
          "name": "stdout",
          "text": [
            "6 Esto es un numero entero\n",
            "6 Esto es un entero\n",
            "7.5 Esto es un numero decimal\n",
            "True Esto es un booleano\n",
            "Dime una cadena: 5\n",
            "Dime un valor: 9\n",
            "Emil Alexis Esto es una cadena 5\n",
            "Emil Alexis Letra inicial E Un valor especifico A rango Emil Comenzar desde el final s\n",
            "Alexis Emil\n",
            "<class 'str'>\n"
          ]
        }
      ]
    },
    {
      "cell_type": "code",
      "source": [
        "#FECHAS\n",
        "from datetime import datetime, date, time\n",
        "fecha = datetime.now()\n",
        "print(fecha, fecha.date(), fecha.time())\n",
        "print(type(fecha))\n",
        "\n",
        "fechaPersonalizada = date(2025,8,1)\n",
        "print(fechaPersonalizada)\n",
        "\n",
        "fecha = \"2025-08-08\"\n",
        "fecha = datetime.strptime(fecha, \"%Y-%m-%d\")\n",
        "print(fecha)\n",
        "\n",
        "print( fecha.strftime(\"%d/%m/%Y\"), \"Regresamos a clases \" )\n",
        "\n",
        "fechaNac = input(\"Dime tu fecha de nacimiento en formato d-m-Y: \")\n",
        "fechaNac = datetime.strptime(fechaNac, \"%d-%m-%Y\")\n",
        "print(fechaNac)"
      ],
      "metadata": {
        "colab": {
          "base_uri": "https://localhost:8080/"
        },
        "id": "FWZmd6PFQ1sx",
        "outputId": "b924a9ee-8366-4bd5-fa4e-a92e33137df2"
      },
      "execution_count": 3,
      "outputs": [
        {
          "output_type": "stream",
          "name": "stdout",
          "text": [
            "2025-08-26 02:44:41.757958 2025-08-26 02:44:41.757958\n",
            "<class 'datetime.datetime'>\n",
            "2025-08-01\n",
            "2025-08-08 00:00:00\n",
            "08/08/2025 Regresamos a clases \n",
            "Dime tu fecha de nacimiento en formato d-m-Y: 14-02-2006\n",
            "2006-02-14 00:00:00\n"
          ]
        }
      ]
    },
    {
      "cell_type": "markdown",
      "source": [
        "FUNCIONES EN PYTHON"
      ],
      "metadata": {
        "id": "Dbbc1rhYRAOD"
      }
    },
    {
      "cell_type": "code",
      "source": [
        "#Suma\n",
        "def suma(num1, num2):\n",
        "  return num1 + num2"
      ],
      "metadata": {
        "id": "Kme_JfnYRBTg"
      },
      "execution_count": 4,
      "outputs": []
    },
    {
      "cell_type": "code",
      "source": [
        "print(\"La suma de 5 + 8 = \", suma(5,8))"
      ],
      "metadata": {
        "colab": {
          "base_uri": "https://localhost:8080/"
        },
        "id": "hGq1DAK3W-Gv",
        "outputId": "883f86db-271b-4cbb-9e89-f05c793d7825"
      },
      "execution_count": 5,
      "outputs": [
        {
          "output_type": "stream",
          "name": "stdout",
          "text": [
            "La suma de 5 + 8 =  13\n"
          ]
        }
      ]
    },
    {
      "cell_type": "code",
      "source": [
        "num1 = float(input(\"Num1: \"))\n",
        "num2 = float(input(\"Num2: \"))\n",
        "respuesta = suma(num1, num2)\n",
        "print(\"La suma es: \", respuesta)"
      ],
      "metadata": {
        "colab": {
          "base_uri": "https://localhost:8080/"
        },
        "id": "XgwJDuaoXTv0",
        "outputId": "f5fb5ebf-2607-475e-b4c0-9656c4822cc5"
      },
      "execution_count": 6,
      "outputs": [
        {
          "output_type": "stream",
          "name": "stdout",
          "text": [
            "Num1: 6\n",
            "Num2: 8\n",
            "La suma es:  14.0\n"
          ]
        }
      ]
    },
    {
      "cell_type": "code",
      "source": [
        "#Hacer un ejercicio en python haciendo uso de funciones de usuario, que convierta grados celcius a Farenheit.\n",
        "def celsiusFarenheit(c):\n",
        "  return c*1.8 + 32\n",
        "c = int(input(\"Grados c: \"))\n",
        "f = celsiusFarenheit(c)\n",
        "print(\"F: \", f)"
      ],
      "metadata": {
        "colab": {
          "base_uri": "https://localhost:8080/"
        },
        "id": "ePbPKUDCXbEY",
        "outputId": "0b74d7fd-1394-4667-e84f-7c5a36457916"
      },
      "execution_count": 9,
      "outputs": [
        {
          "output_type": "stream",
          "name": "stdout",
          "text": [
            "Grados c: 37\n",
            "F:  98.60000000000001\n"
          ]
        }
      ]
    },
    {
      "cell_type": "code",
      "source": [
        "#Hacer un ejercicio en python haciendo uso de funciones de usuario, que convierta grados Farenheit a Celsius.\n",
        "def farenheitCelsius(f):\n",
        "  return (f-32) * 5/9\n",
        "\n",
        "f = float(input(\"F: \"))\n",
        "c = farenheitCelsius(f)\n",
        "print(\"C: \", c)\n",
        ""
      ],
      "metadata": {
        "colab": {
          "base_uri": "https://localhost:8080/"
        },
        "id": "dMyKwMmoXuCj",
        "outputId": "7c9dc515-f879-4f59-f9e7-4c7bde94e9ca"
      },
      "execution_count": 10,
      "outputs": [
        {
          "output_type": "stream",
          "name": "stdout",
          "text": [
            "F: 100\n",
            "C:  37.77777777777778\n"
          ]
        }
      ]
    },
    {
      "cell_type": "code",
      "source": [
        "#Hacer un ejercicio en python haciendo uso de funciones de usuario, que convierta grados Celsius a Kelvin.\n",
        "def celsiusKelvin(c):\n",
        "  return c + 273.15\n",
        "\n",
        "c = float(input(\"C: \"))\n",
        "k = celsiusKelvin(c)\n",
        "print(\"K: \", k)"
      ],
      "metadata": {
        "colab": {
          "base_uri": "https://localhost:8080/"
        },
        "id": "R_dcDO0jXzWE",
        "outputId": "8ca406a0-b51a-4401-a042-c4976b14a47e"
      },
      "execution_count": 11,
      "outputs": [
        {
          "output_type": "stream",
          "name": "stdout",
          "text": [
            "C: 37\n",
            "K:  310.15\n"
          ]
        }
      ]
    },
    {
      "cell_type": "code",
      "source": [
        "#Hacer un ejercicio en python haciendo uso de funciones de usuario, que calcule\n",
        "#el sueldo de un empleado, segun el numero de hrs trabajas y el valor por hora\n",
        "def sueldo(numHrs, valorXhr):\n",
        "  sueldo = numHrs * valorXhr * 30\n",
        "  return sueldo\n",
        "numHrs = float(input(\"Hrs: \"))\n",
        "valorXhr = float(input(\"Valor Xhr: \"))\n",
        "sueldo = sueldo(numHrs, valorXhr)\n",
        "\n",
        "print(\"Sueldo: \", sueldo)"
      ],
      "metadata": {
        "colab": {
          "base_uri": "https://localhost:8080/"
        },
        "id": "YiMD8ofJX4jm",
        "outputId": "f5319223-36c6-4c5a-f6f7-1789c7596946"
      },
      "execution_count": 13,
      "outputs": [
        {
          "output_type": "stream",
          "name": "stdout",
          "text": [
            "Hrs: 6\n",
            "Valor Xhr: 7\n",
            "Sueldo:  1260.0\n"
          ]
        }
      ]
    },
    {
      "cell_type": "code",
      "source": [
        "#Hacer un ejercicio en python haciendo uso de funciones de usuario, que permita elevar un numero a un exponente\n",
        "def expoenciacion(b,e):\n",
        "  return b**e\n",
        "\n",
        "b = float(input(\"Base: \"))\n",
        "e = float(input(\"Exponente: \"))\n",
        "\n",
        "resultado = expoenciacion(b,e)\n",
        "print(\"El Numero: \", b, \", elevado a \",e, \", el resultado es: \", resultado)"
      ],
      "metadata": {
        "colab": {
          "base_uri": "https://localhost:8080/"
        },
        "id": "aO8ckEh1YRZc",
        "outputId": "55bc10b4-cfb6-4780-8c2a-aba3b3303e76"
      },
      "execution_count": 14,
      "outputs": [
        {
          "output_type": "stream",
          "name": "stdout",
          "text": [
            "Base: 8\n",
            "Exponente: 3\n",
            "El Numero:  8.0 , elevado a  3.0 , el resultado es:  512.0\n"
          ]
        }
      ]
    },
    {
      "cell_type": "markdown",
      "source": [
        "FUNCIONES ANONIMAS"
      ],
      "metadata": {
        "id": "PJj3TYGGYhEo"
      }
    },
    {
      "cell_type": "code",
      "source": [
        "def suma(a,b):\n",
        "  return a+b\n",
        "a = float(input(\"Num1: \"))\n",
        "b = float(input(\"Num2: \"))\n",
        "\n",
        "suma = suma(a,b)\n",
        "print(\"La suma es: \", suma)"
      ],
      "metadata": {
        "colab": {
          "base_uri": "https://localhost:8080/"
        },
        "id": "VOdU2pJCYh7Q",
        "outputId": "4f8cd0c0-b3d0-4752-aa66-763133fb8d9b"
      },
      "execution_count": 15,
      "outputs": [
        {
          "output_type": "stream",
          "name": "stdout",
          "text": [
            "Num1: 5\n",
            "Num2: 6\n",
            "La suma es:  11.0\n"
          ]
        }
      ]
    },
    {
      "cell_type": "code",
      "source": [
        "\n",
        "a = float(input(\"Num1: \"))\n",
        "b = float(input(\"Num2: \"))\n",
        "\n",
        "sum = lambda a,b: a+b\n",
        "print( \"La suma de \", a, \" mas b \", b, \" es igual \", sum(a,b) )"
      ],
      "metadata": {
        "colab": {
          "base_uri": "https://localhost:8080/"
        },
        "id": "J6urpPAuYs8j",
        "outputId": "815252af-b4a7-4389-e7d3-3af7381df6b0"
      },
      "execution_count": 16,
      "outputs": [
        {
          "output_type": "stream",
          "name": "stdout",
          "text": [
            "Num1: 5\n",
            "Num2: 6\n",
            "La suma de  5.0  mas b  6.0  es igual  11.0\n"
          ]
        }
      ]
    },
    {
      "cell_type": "markdown",
      "source": [
        "FUNCIONES PRECONSTRUIDAS"
      ],
      "metadata": {
        "id": "bxB5FFNmY0cD"
      }
    },
    {
      "cell_type": "code",
      "source": [
        "def extraerPrimeraLetra(dia):\n",
        "  return dia[0]\n",
        "#map\n",
        "semana = [\"Domingo\", \"Lunes\", \"Martes\", \"Miercoles\", \"Jueves\", \"Viernes\", \"Sabado\"]\n",
        "\n",
        "primeraLetraDia = map(lambda dia: dia[0], semana)\n",
        "print(list(primeraLetraDia))\n",
        "\n",
        "mayusSemana = map(lambda dia: dia.upper(), semana)\n",
        "print(list(mayusSemana))\n",
        "\n",
        "print( list(map(extraerPrimeraLetra, semana)) )"
      ],
      "metadata": {
        "colab": {
          "base_uri": "https://localhost:8080/"
        },
        "id": "GnCR2FLmY1YJ",
        "outputId": "efa4d070-0f8b-4e85-e16a-1b448921ecc9"
      },
      "execution_count": 17,
      "outputs": [
        {
          "output_type": "stream",
          "name": "stdout",
          "text": [
            "['D', 'L', 'M', 'M', 'J', 'V', 'S']\n",
            "['DOMINGO', 'LUNES', 'MARTES', 'MIERCOLES', 'JUEVES', 'VIERNES', 'SABADO']\n",
            "['D', 'L', 'M', 'M', 'J', 'V', 'S']\n"
          ]
        }
      ]
    },
    {
      "cell_type": "code",
      "source": [
        "numeros = [2,4,6,8,7,9]\n",
        "potencia = int(input(\"Potencia: \"))\n",
        "numeroPotencia = map(lambda num: num**potencia, numeros)\n",
        "\n",
        "print(list(numeroPotencia))"
      ],
      "metadata": {
        "colab": {
          "base_uri": "https://localhost:8080/"
        },
        "id": "Z2XBYewDY9rI",
        "outputId": "e2077dd3-aaf1-4f70-c643-2263aa41c2fc"
      },
      "execution_count": 18,
      "outputs": [
        {
          "output_type": "stream",
          "name": "stdout",
          "text": [
            "Potencia: 6\n",
            "[64, 4096, 46656, 262144, 117649, 531441]\n"
          ]
        }
      ]
    },
    {
      "cell_type": "code",
      "source": [
        "\n",
        "ntabla  = int(input(\"Tabla:\"))\n",
        "numeros = [1,2,3,4,5,6,7,8,9,10]\n",
        "tabla = map(lambda num: num*ntabla, numeros)\n",
        "\n",
        "print(list(tabla))"
      ],
      "metadata": {
        "colab": {
          "base_uri": "https://localhost:8080/"
        },
        "id": "PP4uYAdVZBSK",
        "outputId": "76cc4adc-4685-460b-ac4a-07cda99b8f44"
      },
      "execution_count": 19,
      "outputs": [
        {
          "output_type": "stream",
          "name": "stdout",
          "text": [
            "Tabla:5\n",
            "[5, 10, 15, 20, 25, 30, 35, 40, 45, 50]\n"
          ]
        }
      ]
    },
    {
      "cell_type": "code",
      "source": [
        "serie = [5,6,9,2,7,8]\n",
        "pares = filter(lambda num: num%2==0, serie) #% ===> a modulo, obtener el residuo.\n",
        "\n",
        "print(list(pares))\n",
        "\n",
        "impares = filter(lambda num: num%2!=0, serie)\n",
        "\n",
        "print(list(impares))"
      ],
      "metadata": {
        "colab": {
          "base_uri": "https://localhost:8080/"
        },
        "id": "oontgcobZEq3",
        "outputId": "6b6d29e1-1944-44e8-9e09-d80973eb6609"
      },
      "execution_count": 20,
      "outputs": [
        {
          "output_type": "stream",
          "name": "stdout",
          "text": [
            "[6, 2, 8]\n",
            "[5, 9, 7]\n"
          ]
        }
      ]
    },
    {
      "cell_type": "code",
      "source": [
        "\n",
        "\n",
        "serieUser = input(\"Serie: \") # \"5,2,8,1\" --> serie[0]=\"5\"; serie[1]=\"2\"; etc..\n",
        "serieUser = serieUser.split(\",\")\n",
        "\n",
        "pares = filter(lambda num: int(num)%2==0, serieUser)\n",
        "impares = filter(lambda num: int(num)%2!=0, serieUser)\n",
        "\n",
        "print(\"Pares: \",list(pares))\n",
        "print(\"Impares: \", list(impares))"
      ],
      "metadata": {
        "colab": {
          "base_uri": "https://localhost:8080/"
        },
        "id": "mIWtZ184ZIK4",
        "outputId": "4a856668-65e1-4c5f-cb36-1987e28ad1d5"
      },
      "execution_count": 21,
      "outputs": [
        {
          "output_type": "stream",
          "name": "stdout",
          "text": [
            "Serie: 5,2,8,1,9\n",
            "Pares:  ['2', '8']\n",
            "Impares:  ['5', '1', '9']\n"
          ]
        }
      ]
    },
    {
      "cell_type": "markdown",
      "source": [
        "Hacer un ejercicio en python usando la funcion filter y lambda que de una seria de notas introducidas por el usuario, establezca cuantos pasan la materia (>6) y cuantos se quedan (<6)."
      ],
      "metadata": {
        "id": "YTMwwTUhZRMb"
      }
    },
    {
      "cell_type": "code",
      "source": [
        "\n",
        "#reduce\n",
        "from functools import reduce\n",
        "\n",
        "numeros = [5,4,9,6,8,2,3]\n",
        "suma = reduce(lambda acum, num: num+acum, numeros)\n",
        "\n",
        "sumaPares = reduce(lambda acum, num: num+acum, filter(lambda num: num%2==0, numeros))\n",
        "sumaPar = reduce(lambda acum, num: acum + num if num%2==0 else acum, numeros,0)\n",
        "\n",
        "print(\"La suma es: \", suma)\n",
        "print(\"La suma de los pares es: \", sumaPares)\n",
        "print(\"Suma Pares: \", sumaPar)"
      ],
      "metadata": {
        "colab": {
          "base_uri": "https://localhost:8080/"
        },
        "id": "-zQrissqZSZu",
        "outputId": "ffa7af3a-e813-499f-bda1-4714758679cd"
      },
      "execution_count": 22,
      "outputs": [
        {
          "output_type": "stream",
          "name": "stdout",
          "text": [
            "La suma es:  37\n",
            "La suma de los pares es:  20\n",
            "Suma Pares:  20\n"
          ]
        }
      ]
    },
    {
      "cell_type": "markdown",
      "source": [
        "TUPLAS"
      ],
      "metadata": {
        "id": "vwUyiFUJZXIR"
      }
    },
    {
      "cell_type": "code",
      "source": [
        "tupla = (5,2,3,7,8,5)\n",
        "#tupla[0] = 1\n",
        "print(\"Tupla: \", tupla, \"Primer elemento: \", tupla[0], \"El numero 5 parece \", tupla.count(5))\n",
        "print(\"Ultimo elemento: \", tupla[-1])\n",
        "print(\"Rango: \", tupla[0:5])"
      ],
      "metadata": {
        "colab": {
          "base_uri": "https://localhost:8080/"
        },
        "id": "MjrAwNYdZXyJ",
        "outputId": "4ae77ff5-0a55-40b1-dfb6-a15afb204112"
      },
      "execution_count": 23,
      "outputs": [
        {
          "output_type": "stream",
          "name": "stdout",
          "text": [
            "Tupla:  (5, 2, 3, 7, 8, 5) Primer elemento:  5 El numero 5 parece  2\n",
            "Ultimo elemento:  5\n",
            "Rango:  (5, 2, 3, 7, 8)\n"
          ]
        }
      ]
    },
    {
      "cell_type": "code",
      "source": [
        "import datetime\n",
        "fecha = datetime.date.today()\n",
        "\n",
        "semana = (\"Domingo\", \"Lunes\", \"Martes\", \"Miercoles\", \"Jueves\", \"Viernes\", \"Sabado\")\n",
        "meses = (\"\", \"Enero\", \"Febrero\", \"Marzo\", \"Abril\", \"Mayo\", \"Junio\", \"Julio\", \"Agosto\", \"Septiembre\", \"Octubre\", \"Noviembre\", \"Diciembre\")\n",
        "dia = fecha.day\n",
        "mes = fecha.month\n",
        "year = fecha.year\n",
        "diaSemana = semana[fecha.isoweekday()]\n",
        "\n",
        "print(diaSemana, dia, \"del\", meses[mes], \"del\", year)\n",
        "print(fecha, fecha.isoweekday(), diaSemana)\n",
        "print(dia, mes, year)\n",
        ""
      ],
      "metadata": {
        "colab": {
          "base_uri": "https://localhost:8080/"
        },
        "id": "ieUcC1sKZcVj",
        "outputId": "b2d9ee73-d944-427c-e2a5-ae0b2107e0eb"
      },
      "execution_count": 24,
      "outputs": [
        {
          "output_type": "stream",
          "name": "stdout",
          "text": [
            "Martes 26 del Agosto del 2025\n",
            "2025-08-26 2 Martes\n",
            "26 8 2025\n"
          ]
        }
      ]
    },
    {
      "cell_type": "markdown",
      "source": [
        "LISTAS"
      ],
      "metadata": {
        "id": "8m7KIt5KZfhP"
      }
    },
    {
      "cell_type": "code",
      "source": [
        "\n",
        "lista = [5,8,9,4, \"Progra III\", True, [4,8,9, [8,9,4]]]\n",
        "print(lista)"
      ],
      "metadata": {
        "colab": {
          "base_uri": "https://localhost:8080/"
        },
        "id": "cLWfki14ZgJT",
        "outputId": "3c0b960f-3a88-4908-d21f-2699c1e69a4a"
      },
      "execution_count": 25,
      "outputs": [
        {
          "output_type": "stream",
          "name": "stdout",
          "text": [
            "[5, 8, 9, 4, 'Progra III', True, [4, 8, 9, [8, 9, 4]]]\n"
          ]
        }
      ]
    },
    {
      "cell_type": "code",
      "source": [
        "def calcularPromedio(nota, notas):\n",
        "  return notas[1]*notas[2] + nota # 8*0.3 + 9*0.3 + 10*0.3\n",
        "  #Hacer un ejercicio en python que obtenga la nota final de Progra III del computo I, haciendo uso de las listas y de las funciones.\n",
        "from functools import reduce\n",
        "#estudiante...\n",
        "notas = [\n",
        "    [\"Lab1\", 10, 0.3],\n",
        "    [\"Lab2\", 10, 0.3],\n",
        "    [\"Parcial1\", 10, 0.4],\n",
        "\n",
        "    [\"Lab1\", 10, 0.3],\n",
        "    [\"Lab2\", 10, 0.3],\n",
        "    [\"Parcial2\", 10, 0.4],\n",
        "\n",
        "    [\"Lab1\", 10, 0.3],\n",
        "    [\"Lab2\", 10, 0.3],\n",
        "    [\"Parcial3\", 10, 0.4]\n",
        "  ]\n",
        "prom = reduce(calcularPromedio, notas, 0)\n",
        "nf = prom / 3\n",
        "print(\"Nota Final de Progra III: \", nf)"
      ],
      "metadata": {
        "colab": {
          "base_uri": "https://localhost:8080/"
        },
        "id": "4uDCIWAJZinf",
        "outputId": "dab4bbdd-55fe-45c3-f7c1-1c09ebc87364"
      },
      "execution_count": 27,
      "outputs": [
        {
          "output_type": "stream",
          "name": "stdout",
          "text": [
            "Nota Final de Progra III:  10.0\n"
          ]
        }
      ]
    },
    {
      "cell_type": "code",
      "source": [
        "\n",
        "#Hacer un ejercicio en python que obtenga la nota final de Progra III del computo I,\n",
        "#donde el usuario va introducir las notas, haciendo uso de las listas y de las funciones.\n",
        "from functools import reduce\n",
        "\n",
        "notas = []\n",
        "for i in range(1,4):\n",
        "  nota = float(input(\"Act: \"+ str(i) + \": \"))\n",
        "  porcentaje = float(input(\"Porcentaje: \"))\n",
        "  notas.append([\"Act. \"+ str(i), nota, porcentaje])\n",
        "\n",
        "prom = reduce(calcularPromedio, notas, 0)\n",
        "print(\"Nota Final de C1 \", prom)"
      ],
      "metadata": {
        "colab": {
          "base_uri": "https://localhost:8080/"
        },
        "id": "4IeqFO9HZvy7",
        "outputId": "659559ae-4c38-4b9c-d0ad-f24c1ec52645"
      },
      "execution_count": 28,
      "outputs": [
        {
          "output_type": "stream",
          "name": "stdout",
          "text": [
            "Act: 1: 7\n",
            "Porcentaje: 32\n",
            "Act: 2: 3\n",
            "Porcentaje: 44\n",
            "Act: 3: 3\n",
            "Porcentaje: 22\n",
            "Nota Final de C1  422.0\n"
          ]
        }
      ]
    },
    {
      "cell_type": "code",
      "source": [
        "#sort\n",
        "valores = [5,8,9,1,3,4,7]\n",
        "\n",
        "print(valores, \"Lista original\")\n",
        "\n",
        "valores.sort()\n",
        "print(valores, \"POrdenados de menor a mayor\")\n",
        "\n",
        "valores.reverse()\n",
        "print(valores, \"Ordenados de mayor a menor\")\n",
        "\n",
        "#valores.sort(reverse=True)\n",
        "#print(valores, \"Ordenados de mayor a menor\")"
      ],
      "metadata": {
        "colab": {
          "base_uri": "https://localhost:8080/"
        },
        "id": "iCYGgfc2Z4bx",
        "outputId": "b872e642-db1a-4c13-91ab-f681fabbaad7"
      },
      "execution_count": 29,
      "outputs": [
        {
          "output_type": "stream",
          "name": "stdout",
          "text": [
            "[5, 8, 9, 1, 3, 4, 7] Lista original\n",
            "[1, 3, 4, 5, 7, 8, 9] POrdenados de menor a mayor\n",
            "[9, 8, 7, 5, 4, 3, 1] Ordenados de mayor a menor\n"
          ]
        }
      ]
    },
    {
      "cell_type": "markdown",
      "source": [
        "DICCIONARIOS - JSON"
      ],
      "metadata": {
        "id": "-tv62wb4Z8Og"
      }
    },
    {
      "cell_type": "code",
      "source": [
        "persona = {\n",
        "  \"codigo\": \"USS019624\",\n",
        "  \"nombre\": \"Emil Alexis\",\n",
        "  \"materias\": [\n",
        "    {\n",
        "      \"codigo\": 611,\n",
        "      \"nombre\": \"Programacion I\",\n",
        "      \"notas\":{\n",
        "        \"c1\": {\"lab1\":8, \"lab2\":9.9, \"parcial\":10},\n",
        "        \"c2\": {\"lab1\":7.78, \"lab2\":6.5, \"parcial\":8},\n",
        "        \"c3\": {\"lab1\":10, \"lab2\":9, \"parcial\":9}\n",
        "      }\n",
        "    },\n",
        "    {\n",
        "      \"codigo\": 612,\n",
        "      \"nombre\": \"Programacion II\",\n",
        "      \"notas\":{\n",
        "        \"c1\": {\"lab1\":5, \"lab2\": 7, \"parcial\":9},\n",
        "        \"c2\": {\"lab1\":9, \"lab2\": 6, \"parcial\": 10},\n",
        "        \"c3\": {\"lab1\":10, \"lab2\": 10, \"parcial\": 9}\n",
        "      }\n",
        "    }\n",
        "  ]\n",
        "}\n",
        "print(persona[\"nombre\"], \"->\", persona[\"materias\"][0][\"nombre\"], \"-> CI: \",\n",
        "      persona[\"materias\"][0][\"notas\"][\"c1\"],\n",
        "      persona[\"materias\"][0][\"notas\"][\"c1\"][\"lab1\"]\n",
        "      )"
      ],
      "metadata": {
        "colab": {
          "base_uri": "https://localhost:8080/"
        },
        "id": "fxLgh_7wZ8_r",
        "outputId": "8e4b02eb-cb21-40b3-9bbd-e830a4fc0cc0"
      },
      "execution_count": 30,
      "outputs": [
        {
          "output_type": "stream",
          "name": "stdout",
          "text": [
            "Emil Alexis -> Programacion I -> CI:  {'lab1': 8, 'lab2': 9.9, 'parcial': 10} 8\n"
          ]
        }
      ]
    },
    {
      "cell_type": "markdown",
      "source": [
        "ESTRUCTURAS DE CONTROL"
      ],
      "metadata": {
        "id": "By9jMPGaaTmc"
      }
    },
    {
      "cell_type": "code",
      "source": [
        "#if\n",
        "#hacer un ejercicio en python que permita clasificar las edades segun su rango\n",
        "edad = int(input(\"Edad: \"))\n",
        "if(edad<0):\n",
        "  print(\"Error al ingresar la edad, solo valores positivos.\")\n",
        "elif(edad<=2):\n",
        "  print(\"Eres un bebe...\")\n",
        "elif(edad<=11):\n",
        "  print(\"Eres un niño...\")\n",
        "elif(edad<18):\n",
        "  print(\"Eres un adolescente...\")\n",
        "elif(edad<65):\n",
        "  print(\"Eres un adulto responsable...\")\n",
        "elif(edad<85):\n",
        "  print(\"Eres un adulto mayor...\")\n",
        "else:\n",
        "  print(\"Larga vida...\")"
      ],
      "metadata": {
        "colab": {
          "base_uri": "https://localhost:8080/"
        },
        "id": "RvRficd_aUQm",
        "outputId": "7103006b-c82e-4ad9-8f00-a5670fb8a92e"
      },
      "execution_count": 31,
      "outputs": [
        {
          "output_type": "stream",
          "name": "stdout",
          "text": [
            "Edad: 19\n",
            "Eres un adulto responsable...\n"
          ]
        }
      ]
    },
    {
      "cell_type": "code",
      "source": [
        "#Determinar si un numero introducido por el usuario es primo\n",
        "num = int(input(\"Num: \"))\n",
        "\n",
        "acum = 0\n",
        "i=1\n",
        "while i<=num and acum<=2:\n",
        "  if( num%i==0 ):\n",
        "    acum+=1\n",
        "  i+=1\n",
        "if(acum<=2):\n",
        "  print(\"El numero \", num, \" ES primo\")\n",
        "else:\n",
        "  print(\"El numero \", num, \" NO es primo\")"
      ],
      "metadata": {
        "colab": {
          "base_uri": "https://localhost:8080/"
        },
        "id": "GtnLODzHabvk",
        "outputId": "0f1569d5-0cd9-4cc1-afa6-946ac2ae5ead"
      },
      "execution_count": 32,
      "outputs": [
        {
          "output_type": "stream",
          "name": "stdout",
          "text": [
            "Num: 6\n",
            "El numero  6  NO es primo\n"
          ]
        }
      ]
    },
    {
      "cell_type": "code",
      "source": [
        "#Generar la tabla de multiplicar de un numero dado por el usuario.\n",
        "continuar=\"s\"\n",
        "while(continuar==\"s\"):\n",
        "  ntabla = int(input(\"Tabla: \"))\n",
        "  for i in range(1,11):\n",
        "    print(ntabla, \"x\", i, \"=\", ntabla*i)\n",
        "  continuar = input(\"Continuar s, sino cualquier tecla: \")"
      ],
      "metadata": {
        "colab": {
          "base_uri": "https://localhost:8080/"
        },
        "id": "08iW5TtJaf9V",
        "outputId": "16f33cf2-3b77-46f3-c767-0d0efa8c8d2a"
      },
      "execution_count": 34,
      "outputs": [
        {
          "name": "stdout",
          "output_type": "stream",
          "text": [
            "Tabla: 7\n",
            "7 x 1 = 7\n",
            "7 x 2 = 14\n",
            "7 x 3 = 21\n",
            "7 x 4 = 28\n",
            "7 x 5 = 35\n",
            "7 x 6 = 42\n",
            "7 x 7 = 49\n",
            "7 x 8 = 56\n",
            "7 x 9 = 63\n",
            "7 x 10 = 70\n",
            "Continuar s, sino cualquier tecla:  \n"
          ]
        }
      ]
    },
    {
      "cell_type": "markdown",
      "source": [
        "PROGRAMACION ORIENTADA A OBJETOS"
      ],
      "metadata": {
        "id": "3N4SWOy2au0e"
      }
    },
    {
      "cell_type": "code",
      "source": [
        "\n",
        "class calculadora:\n",
        "  def sumar(num1, num2):\n",
        "    return num1+num2\n",
        "objCalculadora = calculadora() #creamos el objeto apartir de la clase\n",
        "num1 = float(input(\"Num1: \"))\n",
        "num2 = float(input(\"Num2: \"))\n",
        "print(num1, \"+\", num2, \"=\", calculadora.sumar(num1, num2))"
      ],
      "metadata": {
        "colab": {
          "base_uri": "https://localhost:8080/"
        },
        "id": "AB7Zhcd7avjl",
        "outputId": "09745229-c55b-4205-c6fe-1ebb18a5bf4b"
      },
      "execution_count": 36,
      "outputs": [
        {
          "output_type": "stream",
          "name": "stdout",
          "text": [
            "Num1: 8\n",
            "Num2: 5\n",
            "8.0 + 5.0 = 13.0\n"
          ]
        }
      ]
    },
    {
      "cell_type": "code",
      "source": [
        "\n",
        "#Hecer un programa que lea una serie de numero introeducidos por el usuario y determine la media artimetica.\n",
        "from math import sqrt\n",
        "class estadistica:\n",
        "  def media(self, serie):\n",
        "    suma = 0\n",
        "    for num in serie:\n",
        "      suma += int(num)\n",
        "    return suma/len(serie)\n",
        "\n",
        "  def tipica(self, serie):\n",
        "    media = self.media(serie)\n",
        "    suma = 0\n",
        "    for num in serie:\n",
        "      suma += (int(num)-media)**2\n",
        "    return sqrt( suma/len(serie) )\n",
        "\n",
        "serie = input(\"Serie ejem: 1,5,2,3: \").split(\",\")\n",
        "objEstadistica = estadistica()\n",
        "print(\"La media es: \", objEstadistica.media(serie), \"la desvicacion tipica es: \", round(objEstadistica.tipica(serie), 2) )"
      ],
      "metadata": {
        "colab": {
          "base_uri": "https://localhost:8080/"
        },
        "id": "lp_Re_6BbFHe",
        "outputId": "13803842-e966-4ac4-c445-88c581725985"
      },
      "execution_count": 37,
      "outputs": [
        {
          "output_type": "stream",
          "name": "stdout",
          "text": [
            "Serie ejem: 1,5,2,3: 1,2,3,4,5\n",
            "La media es:  3.0 la desvicacion tipica es:  1.41\n"
          ]
        }
      ]
    },
    {
      "cell_type": "markdown",
      "source": [
        "TAREA\n",
        "\n",
        "1- Encontrar la varianza en una serie de numeros introducidos por el usuario.\n",
        "2- Encontrar la frecuencia en una serie de numeros introducidos por el usuario.\n",
        "3- Escriba un programa que determine si una palabra es palinbdrome. Ejm. ana, oso, oro, reconocer, bob, somos, ala, salas, etc."
      ],
      "metadata": {
        "id": "AaAWGnErbSK2"
      }
    },
    {
      "cell_type": "code",
      "source": [
        "# 1- Calcular la varianza\n",
        "# La varianza mide cuánto se alejan los números de la media.\n",
        "\n",
        "# Pedimos los números al usuario\n",
        "entrada = input(\"Introduce números separados por espacio: \")\n",
        "numeros = entrada.split()  # separa los números\n",
        "numeros = [float(x) for x in numeros]  # convierte a números\n",
        "\n",
        "# Calculamos la media\n",
        "suma = 0\n",
        "for n in numeros:\n",
        "    suma += n\n",
        "media = suma / len(numeros)\n",
        "\n",
        "# Calculamos la varianza\n",
        "suma_diferencias = 0\n",
        "for n in numeros:\n",
        "    suma_diferencias += (n - media) ** 2\n",
        "varianza = suma_diferencias / len(numeros)\n",
        "\n",
        "print(\"\\nLa varianza es:\", varianza)\n",
        "\n",
        "# 2- Calcular la frecuencia de cada número\n",
        "print(\"\\nFrecuencia de cada número:\")\n",
        "for n in numeros:\n",
        "    contador = 0\n",
        "    for x in numeros:\n",
        "        if x == n:\n",
        "            contador += 1\n",
        "    print(n, \"aparece\", contador, \"veces\")\n",
        "\n",
        "# 3- Verificar si una palabra es palíndroma ---\n",
        "palabra = input(\"\\nIntroduce una palabra: \")\n",
        "palabra = palabra.lower()  # pasar a minúsculas\n",
        "\n",
        "# Verificamos si es palíndroma\n",
        "if palabra == palabra[::-1]:\n",
        "    print(\"La palabra\", palabra, \"es palíndroma\")\n",
        "else:\n",
        "    print(\"La palabra\", palabra, \"no es palíndroma\")\n"
      ],
      "metadata": {
        "id": "Ih9HWBsNd4-4",
        "outputId": "41aadfdb-022d-453b-a338-8b2a61d91990",
        "colab": {
          "base_uri": "https://localhost:8080/"
        }
      },
      "execution_count": 38,
      "outputs": [
        {
          "output_type": "stream",
          "name": "stdout",
          "text": [
            "Introduce números separados por espacio: 1 2 3 4 5 6 7 8 9 \n",
            "\n",
            "La varianza es: 6.666666666666667\n",
            "\n",
            "Frecuencia de cada número:\n",
            "1.0 aparece 1 veces\n",
            "2.0 aparece 1 veces\n",
            "3.0 aparece 1 veces\n",
            "4.0 aparece 1 veces\n",
            "5.0 aparece 1 veces\n",
            "6.0 aparece 1 veces\n",
            "7.0 aparece 1 veces\n",
            "8.0 aparece 1 veces\n",
            "9.0 aparece 1 veces\n",
            "\n",
            "Introduce una palabra: a\n",
            "La palabra a es palíndroma\n"
          ]
        }
      ]
    }
  ]
}